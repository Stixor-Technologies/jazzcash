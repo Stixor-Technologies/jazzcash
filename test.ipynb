{
 "cells": [
  {
   "cell_type": "code",
   "execution_count": 6,
   "id": "a806bc32",
   "metadata": {},
   "outputs": [],
   "source": [
    "import joblib\n",
    "import pandas as pd\n",
    "from python_files.data_preprocessor import preprocess_test\n",
    "import requests"
   ]
  },
  {
   "cell_type": "code",
   "execution_count": 5,
   "id": "86babfe7",
   "metadata": {},
   "outputs": [],
   "source": [
    "model = joblib.load('models\\lgbm_classifier.pkl')\n",
    "scaler = joblib.load('models\\lgbm_scaler.pkl')\n",
    "encoder = joblib.load('models\\lgbm_encoder.pkl')"
   ]
  },
  {
   "cell_type": "code",
   "execution_count": 7,
   "id": "7f90c5d0",
   "metadata": {},
   "outputs": [],
   "source": [
    "url = \"http://127.0.0.1:8000/predict\"\n",
    "\n",
    "data = {\n",
    "  \"Transaction_Id\": \"6561289625\",\n",
    "  \"Date_Time\": \"2021-05-13 21:26:26\",\n",
    "  \"Account_Creation_Date\": \"2021-05-12 21:26:26\",\n",
    "  \"Phone_Number\": \"+92 327-5724582\",\n",
    "  \"CNIC\": \"15352-7462017-7\",\n",
    "  \"Name\": \"Maira Butt\",\n",
    "  \"Type\": \"PAYMENT\",\n",
    "  \"Amount\": 9839.64,\n",
    "  \"ID_Source\": \"C1231006815\",\n",
    "  \"Old_Balance\": 170136.0,\n",
    "  \"New_Balance\": 160296.36,\n",
    "  \"Source_State\": \"Gilgit-Baltistan\",\n",
    "  \"Source_City\": \"Gilgit\",\n",
    "  \"Device_Name\": \"Google Pixel 6\",\n",
    "  \"IMEI\": \"831780764842\",\n",
    "  \"KYC_Status\": \"On-Hold\",\n",
    "  \"Service_Charges\": 19.67928,\n",
    "  \"Channel\": \"Credit Card\",\n",
    "  \"Remarks\": \"\",\n",
    "  \"ID_Dest\": \"M1979787155\",\n",
    "  \"Dest_State\": \"Gilgit-Baltistan\",\n",
    "  \"Dest_City\": \"Gilgit\"\n",
    "}\n"
   ]
  },
  {
   "cell_type": "code",
   "execution_count": 8,
   "id": "c7a1977c",
   "metadata": {},
   "outputs": [],
   "source": [
    "data_fraud = {'Transaction_Id': '5720078885', 'Date_Time': '2021-04-05 18:32:15', \"Account_Creation_Date\": \"2021-04-05 18:30:26\",'Phone_Number': '+92 305-3516186', 'CNIC': '63643-6029379-9', 'Name': 'Bilal Qureshi', 'Type': 'TRANSFER', 'Amount': 837192.23, 'ID_Source': 'C653262851', 'Old_Balance': 837192.23, 'New_Balance': 0.0, 'Source_State': 'Azad Kashmir', 'Source_City': 'Rawalakot', 'Device_Name': 'OnePlus 9', 'IMEI': '468898808901590', 'KYC_Status': 'Validated', 'Service_Charges': 1674.38446, 'Channel': 'Bank Transfer', 'Remarks': '', 'ID_Dest': 'C690345380', 'Dest_State': 'Gilgit-Baltistan', 'Dest_City': 'Skardu'}"
   ]
  },
  {
   "cell_type": "code",
   "execution_count": 16,
   "id": "a9d7b09c",
   "metadata": {},
   "outputs": [],
   "source": [
    "df = pd.DataFrame([data])"
   ]
  },
  {
   "cell_type": "code",
   "execution_count": 17,
   "id": "f9831bf9",
   "metadata": {},
   "outputs": [],
   "source": [
    "processed_data = preprocess_test(df,scaler,encoder)"
   ]
  },
  {
   "cell_type": "code",
   "execution_count": 18,
   "id": "713171d6",
   "metadata": {},
   "outputs": [],
   "source": [
    "prediction = model.predict_proba(processed_data)"
   ]
  },
  {
   "cell_type": "code",
   "execution_count": 19,
   "id": "53e12a26",
   "metadata": {},
   "outputs": [
    {
     "data": {
      "text/plain": [
       "array([[9.99996939e-01, 3.06064904e-06]])"
      ]
     },
     "execution_count": 19,
     "metadata": {},
     "output_type": "execute_result"
    }
   ],
   "source": [
    "prediction"
   ]
  },
  {
   "cell_type": "code",
   "execution_count": 4,
   "id": "4b9e360b",
   "metadata": {},
   "outputs": [
    {
     "name": "stdout",
     "output_type": "stream",
     "text": [
      "{'prediction Model LGBM': [1], 'Prediction Business Rules': {'BusinessRule1_rule1_n_transactions_m_minutes': False, 'BusinessRule2_rule2_high_risk_cities': False, 'BusinessRule3_rule3_high_risk_region_and_time': False, 'BusinessRule4_rule4_new_account_with_large_transaction': False}, 'Prediction Statiscal Rules': {'StatisticalRule5_rule5_large_transaction': True, 'StatisticalRule6_ule6_high_frequency_same_source': False, 'StatisticalRule7_rule7_unusual_dest_accounts': False, 'StatisticalRule8_rule8_time_based_spike': False}}\n"
     ]
    }
   ],
   "source": [
    "response = requests.post(url, json=data_fraud)\n",
    "print(response.json())"
   ]
  },
  {
   "cell_type": "code",
   "execution_count": 36,
   "id": "bdf2de43",
   "metadata": {},
   "outputs": [
    {
     "name": "stdout",
     "output_type": "stream",
     "text": [
      "{'BusinessRule1_rule1_n_transactions_m_minutes': False, 'BusinessRule2_rule2_high_risk_cities': False, 'BusinessRule3_rule3_high_risk_region_and_time': False, 'BusinessRule4_rule4_new_account_with_large_transaction': False}\n"
     ]
    }
   ],
   "source": [
    "print(response.json()['Prediction Business Rules'])"
   ]
  },
  {
   "cell_type": "code",
   "execution_count": null,
   "id": "cc0dadb5",
   "metadata": {},
   "outputs": [
    {
     "name": "stdout",
     "output_type": "stream",
     "text": [
      "{'flagged_by_rule': {'Rule1:n_transactions_m_minutes': [], 'Rule2:high_risk_cities': [], 'Rule3:high_risk_region_and_time': [], 'Rule4:ew_account_with_large_transaction': [], 'Rule5:arge_transaction': [], 'Rule6:igh_frequency_same_source': [], 'Rule7:unusual_dest_accounts': [], 'Rule8:time_based_spike': []}, 'combined_flagged_transactions': []}\n"
     ]
    }
   ],
   "source": [
    "response = requests.post(url, json=data)\n",
    "print(response.json()['Flag Results'])\n",
    "response = requests.post(url, json=data_fraud)\n",
    "print(response.json())\n",
    "response = requests.post(url, json=data_fraud)\n",
    "print(response.json())"
   ]
  },
  {
   "cell_type": "code",
   "execution_count": 47,
   "id": "b2db4aec",
   "metadata": {},
   "outputs": [
    {
     "data": {
      "text/plain": [
       "'6561289625'"
      ]
     },
     "execution_count": 47,
     "metadata": {},
     "output_type": "execute_result"
    }
   ],
   "source": [
    "df['Transaction_Id'][0]"
   ]
  },
  {
   "cell_type": "code",
   "execution_count": 55,
   "id": "dce66ab8",
   "metadata": {},
   "outputs": [],
   "source": [
    "from Rules__ import FraudRulesEngine"
   ]
  },
  {
   "cell_type": "code",
   "execution_count": 56,
   "id": "a64c17f1",
   "metadata": {},
   "outputs": [],
   "source": [
    "df = pd.DataFrame([data])\n",
    "\n",
    "engine = FraudRulesEngine(df)\n",
    "\n",
    "transaction_id=df['Transaction_Id'][0]\n",
    "\n",
    "result = engine.apply_all_rules(transaction_id=transaction_id)"
   ]
  },
  {
   "cell_type": "code",
   "execution_count": 57,
   "id": "fff316bc",
   "metadata": {},
   "outputs": [
    {
     "data": {
      "text/plain": [
       "{'flagged_by_rule': {'Rule1:n_transactions_m_minutes': [],\n",
       "  'Rule2:high_risk_cities': [],\n",
       "  'Rule3:high_risk_region_and_time': [],\n",
       "  'Rule4:ew_account_with_large_transaction': [],\n",
       "  'Rule5:arge_transaction': [],\n",
       "  'Rule6:igh_frequency_same_source': [],\n",
       "  'Rule7:unusual_dest_accounts': [],\n",
       "  'Rule8:time_based_spike': []},\n",
       " 'combined_flagged_transactions': []}"
      ]
     },
     "execution_count": 57,
     "metadata": {},
     "output_type": "execute_result"
    }
   ],
   "source": [
    "result"
   ]
  },
  {
   "cell_type": "code",
   "execution_count": 53,
   "id": "d34e456c",
   "metadata": {},
   "outputs": [
    {
     "name": "stdout",
     "output_type": "stream",
     "text": [
      "\n",
      "Flag Status for Transaction 6561289625:\n",
      "\n",
      "Rule1:n_transactions_m_minutes: FALSE\n",
      "Rule2:high_risk_cities: FALSE\n",
      "Rule3:high_risk_region_and_time: FALSE\n",
      "Rule4:ew_account_with_large_transaction: FALSE\n",
      "Rule5:arge_transaction: FALSE\n",
      "Rule6:igh_frequency_same_source: FALSE\n",
      "Rule7:unusual_dest_accounts: FALSE\n",
      "Rule8:time_based_spike: FALSE\n",
      "\n",
      "Combined Flagged Transactions:\n",
      "[]\n"
     ]
    }
   ],
   "source": [
    "if result:\n",
    "    print(f\"\\nFlag Status for Transaction {transaction_id}:\\n\")\n",
    "\n",
    "    for rule_name, flagged_ids in result['flagged_by_rule'].items():\n",
    "        status = \"TRUE\" if transaction_id in flagged_ids else \"FALSE\"\n",
    "        print(f\"{rule_name}: {status}\")\n",
    "\n",
    "    print(\"\\nCombined Flagged Transactions:\")\n",
    "    print(result['combined_flagged_transactions'])\n",
    "\n",
    "else:\n",
    "    print(\"Transaction not found or error occurred.\")"
   ]
  },
  {
   "cell_type": "code",
   "execution_count": 11,
   "id": "0171596d",
   "metadata": {},
   "outputs": [],
   "source": [
    "from rules import apply_business_rules"
   ]
  },
  {
   "cell_type": "code",
   "execution_count": 12,
   "id": "2fc374c0",
   "metadata": {},
   "outputs": [],
   "source": [
    "df = pd.DataFrame([data])"
   ]
  },
  {
   "cell_type": "code",
   "execution_count": 16,
   "id": "50d678f1",
   "metadata": {},
   "outputs": [],
   "source": [
    "from data_preprocessor import preprocess_test"
   ]
  },
  {
   "cell_type": "code",
   "execution_count": 13,
   "id": "4f372daf",
   "metadata": {},
   "outputs": [],
   "source": [
    "res = preprocess_test(df,scaler,encoder)"
   ]
  },
  {
   "cell_type": "code",
   "execution_count": 14,
   "id": "9525c154",
   "metadata": {},
   "outputs": [
    {
     "data": {
      "text/html": [
       "<div>\n",
       "<style scoped>\n",
       "    .dataframe tbody tr th:only-of-type {\n",
       "        vertical-align: middle;\n",
       "    }\n",
       "\n",
       "    .dataframe tbody tr th {\n",
       "        vertical-align: top;\n",
       "    }\n",
       "\n",
       "    .dataframe thead th {\n",
       "        text-align: right;\n",
       "    }\n",
       "</style>\n",
       "<table border=\"1\" class=\"dataframe\">\n",
       "  <thead>\n",
       "    <tr style=\"text-align: right;\">\n",
       "      <th></th>\n",
       "      <th>Type</th>\n",
       "      <th>Amount</th>\n",
       "      <th>ID_Source</th>\n",
       "      <th>Old_Balance</th>\n",
       "      <th>New_Balance</th>\n",
       "      <th>Source_State</th>\n",
       "      <th>Source_City</th>\n",
       "      <th>Device_Name</th>\n",
       "      <th>KYC_Status</th>\n",
       "      <th>Service_Charges</th>\n",
       "      <th>...</th>\n",
       "      <th>Day_DT</th>\n",
       "      <th>Hour_DT</th>\n",
       "      <th>Weekday_DT</th>\n",
       "      <th>Day_of_year_DT</th>\n",
       "      <th>Year_Acr_DT</th>\n",
       "      <th>Month_Acr_DT</th>\n",
       "      <th>Day_Acr_DT</th>\n",
       "      <th>Hour_Acr_DT</th>\n",
       "      <th>Weekday_Acr_DT</th>\n",
       "      <th>Day_of_year_Acr_DT</th>\n",
       "    </tr>\n",
       "  </thead>\n",
       "  <tbody>\n",
       "    <tr>\n",
       "      <th>0</th>\n",
       "      <td>4.0</td>\n",
       "      <td>0.000106</td>\n",
       "      <td>556958.0</td>\n",
       "      <td>0.003883</td>\n",
       "      <td>0.003669</td>\n",
       "      <td>3.0</td>\n",
       "      <td>14.0</td>\n",
       "      <td>1.0</td>\n",
       "      <td>1.0</td>\n",
       "      <td>0.000106</td>\n",
       "      <td>...</td>\n",
       "      <td>13</td>\n",
       "      <td>21</td>\n",
       "      <td>3</td>\n",
       "      <td>133</td>\n",
       "      <td>2021</td>\n",
       "      <td>5</td>\n",
       "      <td>12</td>\n",
       "      <td>21</td>\n",
       "      <td>2</td>\n",
       "      <td>132</td>\n",
       "    </tr>\n",
       "  </tbody>\n",
       "</table>\n",
       "<p>1 rows × 26 columns</p>\n",
       "</div>"
      ],
      "text/plain": [
       "   Type    Amount  ID_Source  Old_Balance  New_Balance  Source_State  \\\n",
       "0   4.0  0.000106   556958.0     0.003883     0.003669           3.0   \n",
       "\n",
       "   Source_City  Device_Name  KYC_Status  Service_Charges  ...  Day_DT  \\\n",
       "0         14.0          1.0         1.0         0.000106  ...      13   \n",
       "\n",
       "   Hour_DT  Weekday_DT  Day_of_year_DT  Year_Acr_DT  Month_Acr_DT  Day_Acr_DT  \\\n",
       "0       21           3             133         2021             5          12   \n",
       "\n",
       "   Hour_Acr_DT  Weekday_Acr_DT  Day_of_year_Acr_DT  \n",
       "0           21               2                 132  \n",
       "\n",
       "[1 rows x 26 columns]"
      ]
     },
     "execution_count": 14,
     "metadata": {},
     "output_type": "execute_result"
    }
   ],
   "source": [
    "res"
   ]
  },
  {
   "cell_type": "code",
   "execution_count": 15,
   "id": "62972dbf",
   "metadata": {},
   "outputs": [],
   "source": [
    "res['Date_Time'] = '2025-03-15 17:12:12'"
   ]
  },
  {
   "cell_type": "code",
   "execution_count": 16,
   "id": "762e535d",
   "metadata": {},
   "outputs": [],
   "source": [
    "results = apply_business_rules(res)"
   ]
  },
  {
   "cell_type": "code",
   "execution_count": 17,
   "id": "8f3f7823",
   "metadata": {},
   "outputs": [
    {
     "data": {
      "text/html": [
       "<div>\n",
       "<style scoped>\n",
       "    .dataframe tbody tr th:only-of-type {\n",
       "        vertical-align: middle;\n",
       "    }\n",
       "\n",
       "    .dataframe tbody tr th {\n",
       "        vertical-align: top;\n",
       "    }\n",
       "\n",
       "    .dataframe thead th {\n",
       "        text-align: right;\n",
       "    }\n",
       "</style>\n",
       "<table border=\"1\" class=\"dataframe\">\n",
       "  <thead>\n",
       "    <tr style=\"text-align: right;\">\n",
       "      <th></th>\n",
       "      <th>Type</th>\n",
       "      <th>Amount</th>\n",
       "      <th>ID_Source</th>\n",
       "      <th>Old_Balance</th>\n",
       "      <th>New_Balance</th>\n",
       "      <th>Source_State</th>\n",
       "      <th>Source_City</th>\n",
       "      <th>Device_Name</th>\n",
       "      <th>KYC_Status</th>\n",
       "      <th>Service_Charges</th>\n",
       "      <th>...</th>\n",
       "      <th>time_diff</th>\n",
       "      <th>new_session</th>\n",
       "      <th>session_id</th>\n",
       "      <th>session_txn_count</th>\n",
       "      <th>median_count</th>\n",
       "      <th>flag_heavy_session</th>\n",
       "      <th>flag_rapid_txns</th>\n",
       "      <th>flag_high_risk_city</th>\n",
       "      <th>flag_risky_time_region</th>\n",
       "      <th>flag_new_acc_large_amt</th>\n",
       "    </tr>\n",
       "  </thead>\n",
       "  <tbody>\n",
       "    <tr>\n",
       "      <th>0</th>\n",
       "      <td>4.0</td>\n",
       "      <td>0.000106</td>\n",
       "      <td>556958.0</td>\n",
       "      <td>0.003883</td>\n",
       "      <td>0.003669</td>\n",
       "      <td>3.0</td>\n",
       "      <td>14.0</td>\n",
       "      <td>1.0</td>\n",
       "      <td>1.0</td>\n",
       "      <td>0.000106</td>\n",
       "      <td>...</td>\n",
       "      <td>NaN</td>\n",
       "      <td>True</td>\n",
       "      <td>1</td>\n",
       "      <td>1</td>\n",
       "      <td>1.0</td>\n",
       "      <td>False</td>\n",
       "      <td>0</td>\n",
       "      <td>False</td>\n",
       "      <td>False</td>\n",
       "      <td>False</td>\n",
       "    </tr>\n",
       "  </tbody>\n",
       "</table>\n",
       "<p>1 rows × 46 columns</p>\n",
       "</div>"
      ],
      "text/plain": [
       "   Type    Amount  ID_Source  Old_Balance  New_Balance  Source_State  \\\n",
       "0   4.0  0.000106   556958.0     0.003883     0.003669           3.0   \n",
       "\n",
       "   Source_City  Device_Name  KYC_Status  Service_Charges  ...  time_diff  \\\n",
       "0         14.0          1.0         1.0         0.000106  ...        NaN   \n",
       "\n",
       "   new_session  session_id  session_txn_count  median_count  \\\n",
       "0         True           1                  1           1.0   \n",
       "\n",
       "   flag_heavy_session  flag_rapid_txns  flag_high_risk_city  \\\n",
       "0               False                0                False   \n",
       "\n",
       "   flag_risky_time_region  flag_new_acc_large_amt  \n",
       "0                   False                   False  \n",
       "\n",
       "[1 rows x 46 columns]"
      ]
     },
     "execution_count": 17,
     "metadata": {},
     "output_type": "execute_result"
    }
   ],
   "source": [
    "results"
   ]
  },
  {
   "cell_type": "code",
   "execution_count": 20,
   "id": "c5e7a9e7",
   "metadata": {},
   "outputs": [
    {
     "ename": "KeyError",
     "evalue": "'New Account Large Amount'",
     "output_type": "error",
     "traceback": [
      "\u001b[31m---------------------------------------------------------------------------\u001b[39m",
      "\u001b[31mKeyError\u001b[39m                                  Traceback (most recent call last)",
      "\u001b[36mFile \u001b[39m\u001b[32mc:\\JazzCash\\JazzCash\\virtual\\Lib\\site-packages\\pandas\\core\\indexes\\base.py:3805\u001b[39m, in \u001b[36mIndex.get_loc\u001b[39m\u001b[34m(self, key)\u001b[39m\n\u001b[32m   3804\u001b[39m \u001b[38;5;28;01mtry\u001b[39;00m:\n\u001b[32m-> \u001b[39m\u001b[32m3805\u001b[39m     \u001b[38;5;28;01mreturn\u001b[39;00m \u001b[38;5;28;43mself\u001b[39;49m\u001b[43m.\u001b[49m\u001b[43m_engine\u001b[49m\u001b[43m.\u001b[49m\u001b[43mget_loc\u001b[49m\u001b[43m(\u001b[49m\u001b[43mcasted_key\u001b[49m\u001b[43m)\u001b[49m\n\u001b[32m   3806\u001b[39m \u001b[38;5;28;01mexcept\u001b[39;00m \u001b[38;5;167;01mKeyError\u001b[39;00m \u001b[38;5;28;01mas\u001b[39;00m err:\n",
      "\u001b[36mFile \u001b[39m\u001b[32mindex.pyx:167\u001b[39m, in \u001b[36mpandas._libs.index.IndexEngine.get_loc\u001b[39m\u001b[34m()\u001b[39m\n",
      "\u001b[36mFile \u001b[39m\u001b[32mindex.pyx:196\u001b[39m, in \u001b[36mpandas._libs.index.IndexEngine.get_loc\u001b[39m\u001b[34m()\u001b[39m\n",
      "\u001b[36mFile \u001b[39m\u001b[32mpandas\\\\_libs\\\\hashtable_class_helper.pxi:7081\u001b[39m, in \u001b[36mpandas._libs.hashtable.PyObjectHashTable.get_item\u001b[39m\u001b[34m()\u001b[39m\n",
      "\u001b[36mFile \u001b[39m\u001b[32mpandas\\\\_libs\\\\hashtable_class_helper.pxi:7089\u001b[39m, in \u001b[36mpandas._libs.hashtable.PyObjectHashTable.get_item\u001b[39m\u001b[34m()\u001b[39m\n",
      "\u001b[31mKeyError\u001b[39m: 'New Account Large Amount'",
      "\nThe above exception was the direct cause of the following exception:\n",
      "\u001b[31mKeyError\u001b[39m                                  Traceback (most recent call last)",
      "\u001b[36mCell\u001b[39m\u001b[36m \u001b[39m\u001b[32mIn[20]\u001b[39m\u001b[32m, line 1\u001b[39m\n\u001b[32m----> \u001b[39m\u001b[32m1\u001b[39m \u001b[43mresults\u001b[49m\u001b[43m[\u001b[49m\u001b[33;43m'\u001b[39;49m\u001b[33;43mNew Account Large Amount\u001b[39;49m\u001b[33;43m'\u001b[39;49m\u001b[43m]\u001b[49m[\u001b[32m0\u001b[39m]\n",
      "\u001b[36mFile \u001b[39m\u001b[32mc:\\JazzCash\\JazzCash\\virtual\\Lib\\site-packages\\pandas\\core\\frame.py:4102\u001b[39m, in \u001b[36mDataFrame.__getitem__\u001b[39m\u001b[34m(self, key)\u001b[39m\n\u001b[32m   4100\u001b[39m \u001b[38;5;28;01mif\u001b[39;00m \u001b[38;5;28mself\u001b[39m.columns.nlevels > \u001b[32m1\u001b[39m:\n\u001b[32m   4101\u001b[39m     \u001b[38;5;28;01mreturn\u001b[39;00m \u001b[38;5;28mself\u001b[39m._getitem_multilevel(key)\n\u001b[32m-> \u001b[39m\u001b[32m4102\u001b[39m indexer = \u001b[38;5;28;43mself\u001b[39;49m\u001b[43m.\u001b[49m\u001b[43mcolumns\u001b[49m\u001b[43m.\u001b[49m\u001b[43mget_loc\u001b[49m\u001b[43m(\u001b[49m\u001b[43mkey\u001b[49m\u001b[43m)\u001b[49m\n\u001b[32m   4103\u001b[39m \u001b[38;5;28;01mif\u001b[39;00m is_integer(indexer):\n\u001b[32m   4104\u001b[39m     indexer = [indexer]\n",
      "\u001b[36mFile \u001b[39m\u001b[32mc:\\JazzCash\\JazzCash\\virtual\\Lib\\site-packages\\pandas\\core\\indexes\\base.py:3812\u001b[39m, in \u001b[36mIndex.get_loc\u001b[39m\u001b[34m(self, key)\u001b[39m\n\u001b[32m   3807\u001b[39m     \u001b[38;5;28;01mif\u001b[39;00m \u001b[38;5;28misinstance\u001b[39m(casted_key, \u001b[38;5;28mslice\u001b[39m) \u001b[38;5;129;01mor\u001b[39;00m (\n\u001b[32m   3808\u001b[39m         \u001b[38;5;28misinstance\u001b[39m(casted_key, abc.Iterable)\n\u001b[32m   3809\u001b[39m         \u001b[38;5;129;01mand\u001b[39;00m \u001b[38;5;28many\u001b[39m(\u001b[38;5;28misinstance\u001b[39m(x, \u001b[38;5;28mslice\u001b[39m) \u001b[38;5;28;01mfor\u001b[39;00m x \u001b[38;5;129;01min\u001b[39;00m casted_key)\n\u001b[32m   3810\u001b[39m     ):\n\u001b[32m   3811\u001b[39m         \u001b[38;5;28;01mraise\u001b[39;00m InvalidIndexError(key)\n\u001b[32m-> \u001b[39m\u001b[32m3812\u001b[39m     \u001b[38;5;28;01mraise\u001b[39;00m \u001b[38;5;167;01mKeyError\u001b[39;00m(key) \u001b[38;5;28;01mfrom\u001b[39;00m\u001b[38;5;250m \u001b[39m\u001b[34;01merr\u001b[39;00m\n\u001b[32m   3813\u001b[39m \u001b[38;5;28;01mexcept\u001b[39;00m \u001b[38;5;167;01mTypeError\u001b[39;00m:\n\u001b[32m   3814\u001b[39m     \u001b[38;5;66;03m# If we have a listlike key, _check_indexing_error will raise\u001b[39;00m\n\u001b[32m   3815\u001b[39m     \u001b[38;5;66;03m#  InvalidIndexError. Otherwise we fall through and re-raise\u001b[39;00m\n\u001b[32m   3816\u001b[39m     \u001b[38;5;66;03m#  the TypeError.\u001b[39;00m\n\u001b[32m   3817\u001b[39m     \u001b[38;5;28mself\u001b[39m._check_indexing_error(key)\n",
      "\u001b[31mKeyError\u001b[39m: 'New Account Large Amount'"
     ]
    }
   ],
   "source": [
    "results['New Account Large Amount'][0]"
   ]
  },
  {
   "cell_type": "code",
   "execution_count": 3,
   "id": "4d2ea950",
   "metadata": {},
   "outputs": [],
   "source": [
    "# test.py\n",
    "\n",
    "import pandas as pd\n",
    "from datetime import datetime\n",
    "\n",
    "# Import the classes from Rules.py\n",
    "from Rules_ import FraudRulesEngine\n",
    "\n"
   ]
  },
  {
   "cell_type": "code",
   "execution_count": 4,
   "id": "c0e5d5bd",
   "metadata": {},
   "outputs": [],
   "source": [
    "df = pd.DataFrame([data])"
   ]
  },
  {
   "cell_type": "code",
   "execution_count": 5,
   "id": "00ca1cd7",
   "metadata": {},
   "outputs": [
    {
     "data": {
      "text/html": [
       "<div>\n",
       "<style scoped>\n",
       "    .dataframe tbody tr th:only-of-type {\n",
       "        vertical-align: middle;\n",
       "    }\n",
       "\n",
       "    .dataframe tbody tr th {\n",
       "        vertical-align: top;\n",
       "    }\n",
       "\n",
       "    .dataframe thead th {\n",
       "        text-align: right;\n",
       "    }\n",
       "</style>\n",
       "<table border=\"1\" class=\"dataframe\">\n",
       "  <thead>\n",
       "    <tr style=\"text-align: right;\">\n",
       "      <th></th>\n",
       "      <th>Transaction_Id</th>\n",
       "      <th>Date_Time</th>\n",
       "      <th>Account_Creation_Date</th>\n",
       "      <th>Phone_Number</th>\n",
       "      <th>CNIC</th>\n",
       "      <th>Name</th>\n",
       "      <th>Type</th>\n",
       "      <th>Amount</th>\n",
       "      <th>ID_Source</th>\n",
       "      <th>Old_Balance</th>\n",
       "      <th>...</th>\n",
       "      <th>Source_City</th>\n",
       "      <th>Device_Name</th>\n",
       "      <th>IMEI</th>\n",
       "      <th>KYC_Status</th>\n",
       "      <th>Service_Charges</th>\n",
       "      <th>Channel</th>\n",
       "      <th>Remarks</th>\n",
       "      <th>ID_Dest</th>\n",
       "      <th>Dest_State</th>\n",
       "      <th>Dest_City</th>\n",
       "    </tr>\n",
       "  </thead>\n",
       "  <tbody>\n",
       "    <tr>\n",
       "      <th>0</th>\n",
       "      <td>6561289625</td>\n",
       "      <td>2021-05-13 21:26:26</td>\n",
       "      <td>2021-05-12 21:26:26</td>\n",
       "      <td>+92 327-5724582</td>\n",
       "      <td>15352-7462017-7</td>\n",
       "      <td>Maira Butt</td>\n",
       "      <td>PAYMENT</td>\n",
       "      <td>9839.64</td>\n",
       "      <td>C1231006815</td>\n",
       "      <td>170136.0</td>\n",
       "      <td>...</td>\n",
       "      <td>Gilgit</td>\n",
       "      <td>Google Pixel 6</td>\n",
       "      <td>831780764842</td>\n",
       "      <td>On-Hold</td>\n",
       "      <td>19.67928</td>\n",
       "      <td>Credit Card</td>\n",
       "      <td></td>\n",
       "      <td>M1979787155</td>\n",
       "      <td>Gilgit-Baltistan</td>\n",
       "      <td>Gilgit</td>\n",
       "    </tr>\n",
       "  </tbody>\n",
       "</table>\n",
       "<p>1 rows × 22 columns</p>\n",
       "</div>"
      ],
      "text/plain": [
       "  Transaction_Id            Date_Time Account_Creation_Date     Phone_Number  \\\n",
       "0     6561289625  2021-05-13 21:26:26   2021-05-12 21:26:26  +92 327-5724582   \n",
       "\n",
       "              CNIC        Name     Type   Amount    ID_Source  Old_Balance  \\\n",
       "0  15352-7462017-7  Maira Butt  PAYMENT  9839.64  C1231006815     170136.0   \n",
       "\n",
       "   ...  Source_City     Device_Name          IMEI KYC_Status Service_Charges  \\\n",
       "0  ...       Gilgit  Google Pixel 6  831780764842    On-Hold        19.67928   \n",
       "\n",
       "       Channel  Remarks      ID_Dest        Dest_State Dest_City  \n",
       "0  Credit Card           M1979787155  Gilgit-Baltistan    Gilgit  \n",
       "\n",
       "[1 rows x 22 columns]"
      ]
     },
     "execution_count": 5,
     "metadata": {},
     "output_type": "execute_result"
    }
   ],
   "source": [
    "df"
   ]
  },
  {
   "cell_type": "code",
   "execution_count": 29,
   "id": "578c2be4",
   "metadata": {},
   "outputs": [],
   "source": [
    "df=pd.read_csv('test_data.csv')"
   ]
  },
  {
   "cell_type": "code",
   "execution_count": 30,
   "id": "5531f0a2",
   "metadata": {},
   "outputs": [],
   "source": [
    "txn = dict(df.iloc[0])"
   ]
  },
  {
   "cell_type": "code",
   "execution_count": 31,
   "id": "ea37354d",
   "metadata": {},
   "outputs": [],
   "source": [
    "# Initialize the FraudRulesEngine with the test DataFrame\n",
    "engine = FraudRulesEngine(txn)\n"
   ]
  },
  {
   "cell_type": "code",
   "execution_count": 32,
   "id": "43668eb5",
   "metadata": {},
   "outputs": [
    {
     "ename": "AttributeError",
     "evalue": "'dict' object has no attribute 'iterrows'",
     "output_type": "error",
     "traceback": [
      "\u001b[31m---------------------------------------------------------------------------\u001b[39m",
      "\u001b[31mAttributeError\u001b[39m                            Traceback (most recent call last)",
      "\u001b[36mCell\u001b[39m\u001b[36m \u001b[39m\u001b[32mIn[32]\u001b[39m\u001b[32m, line 2\u001b[39m\n\u001b[32m      1\u001b[39m \u001b[38;5;66;03m# Apply all fraud detection rules\u001b[39;00m\n\u001b[32m----> \u001b[39m\u001b[32m2\u001b[39m result = \u001b[43mengine\u001b[49m\u001b[43m.\u001b[49m\u001b[43mapply_all_rules\u001b[49m\u001b[43m(\u001b[49m\u001b[43m)\u001b[49m\n",
      "\u001b[36mFile \u001b[39m\u001b[32mc:\\JazzCash\\JazzCash\\Rules_.py:78\u001b[39m, in \u001b[36mapply_all_rules\u001b[39m\u001b[34m(self)\u001b[39m\n\u001b[32m     75\u001b[39m     \u001b[38;5;28mself\u001b[39m.business = BusinessRules(df)\n\u001b[32m     76\u001b[39m     \u001b[38;5;28mself\u001b[39m.statistical = StatisticalRules(df)\n\u001b[32m---> \u001b[39m\u001b[32m78\u001b[39m \u001b[38;5;28;01mdef\u001b[39;00m\u001b[38;5;250m \u001b[39m\u001b[34mapply_all_rules\u001b[39m(\u001b[38;5;28mself\u001b[39m):\n\u001b[32m     79\u001b[39m     results = {\n\u001b[32m     80\u001b[39m         \u001b[33m'\u001b[39m\u001b[33mn_transactions_m_minutes\u001b[39m\u001b[33m'\u001b[39m: \u001b[38;5;28mself\u001b[39m.business.rule1_n_transactions_m_minutes(),\n\u001b[32m     81\u001b[39m         \u001b[33m'\u001b[39m\u001b[33mhigh_risk_cities\u001b[39m\u001b[33m'\u001b[39m: \u001b[38;5;28mself\u001b[39m.business.rule2_high_risk_cities(),\n\u001b[32m   (...)\u001b[39m\u001b[32m     87\u001b[39m         \u001b[33m'\u001b[39m\u001b[33mtime_based_spike\u001b[39m\u001b[33m'\u001b[39m: \u001b[38;5;28mself\u001b[39m.statistical.rule8_time_based_spike()\n\u001b[32m     88\u001b[39m     }\n\u001b[32m     90\u001b[39m     \u001b[38;5;66;03m# Combine all flagged transactions (deduplicated)\u001b[39;00m\n",
      "\u001b[36mFile \u001b[39m\u001b[32mc:\\JazzCash\\JazzCash\\Rules_.py:14\u001b[39m, in \u001b[36mBusinessRules.rule1_n_transactions_m_minutes\u001b[39m\u001b[34m(self, max_transactions, max_minutes)\u001b[39m\n\u001b[32m     12\u001b[39m \u001b[38;5;28;01mdef\u001b[39;00m\u001b[38;5;250m \u001b[39m\u001b[34mrule1_n_transactions_m_minutes\u001b[39m(\u001b[38;5;28mself\u001b[39m, max_transactions=\u001b[32m3\u001b[39m, max_minutes=\u001b[32m30\u001b[39m):\n\u001b[32m     13\u001b[39m     flagged = []\n\u001b[32m---> \u001b[39m\u001b[32m14\u001b[39m     \u001b[38;5;28;01mfor\u001b[39;00m _, row \u001b[38;5;129;01min\u001b[39;00m \u001b[38;5;28;43mself\u001b[39;49m\u001b[43m.\u001b[49m\u001b[43mdf\u001b[49m\u001b[43m.\u001b[49m\u001b[43miterrows\u001b[49m():\n\u001b[32m     15\u001b[39m         dt = row[\u001b[33m'\u001b[39m\u001b[33mDate_Time\u001b[39m\u001b[33m'\u001b[39m]\n\u001b[32m     16\u001b[39m         recent = \u001b[38;5;28mself\u001b[39m.df[(\u001b[38;5;28mself\u001b[39m.df[\u001b[33m'\u001b[39m\u001b[33mDate_Time\u001b[39m\u001b[33m'\u001b[39m] <= dt) & (\u001b[38;5;28mself\u001b[39m.df[\u001b[33m'\u001b[39m\u001b[33mDate_Time\u001b[39m\u001b[33m'\u001b[39m] >= dt - timedelta(minutes=max_minutes))]\n",
      "\u001b[31mAttributeError\u001b[39m: 'dict' object has no attribute 'iterrows'"
     ]
    }
   ],
   "source": [
    "\n",
    "# Apply all fraud detection rules\n",
    "result = engine.apply_all_rules()\n"
   ]
  },
  {
   "cell_type": "code",
   "execution_count": 9,
   "id": "7be3d2e8",
   "metadata": {},
   "outputs": [
    {
     "data": {
      "text/plain": [
       "{'flagged_by_rule': {'n_transactions_m_minutes': [],\n",
       "  'high_risk_cities': [],\n",
       "  'high_risk_region_and_time': [],\n",
       "  'new_account_with_large_transaction': [],\n",
       "  'large_transaction': [],\n",
       "  'high_frequency_same_source': [],\n",
       "  'unusual_dest_accounts': [],\n",
       "  'time_based_spike': []},\n",
       " 'combined_flagged_transactions': []}"
      ]
     },
     "execution_count": 9,
     "metadata": {},
     "output_type": "execute_result"
    }
   ],
   "source": [
    "result"
   ]
  },
  {
   "cell_type": "code",
   "execution_count": 13,
   "id": "a9f7ebc7",
   "metadata": {},
   "outputs": [
    {
     "name": "stdout",
     "output_type": "stream",
     "text": [
      "Flagged Transactions by Rule:\n",
      "n_transactions_m_minutes: 0\n",
      "high_risk_cities: 0\n",
      "high_risk_region_and_time: 0\n",
      "new_account_with_large_transaction: 0\n",
      "large_transaction: 0\n",
      "high_frequency_same_source: 0\n",
      "unusual_dest_accounts: 0\n",
      "time_based_spike: 0\n"
     ]
    }
   ],
   "source": [
    "# Print the flagged transactions for each rule\n",
    "print(\"Flagged Transactions by Rule:\")\n",
    "for rule, txns in result['flagged_by_rule'].items():\n",
    "    print(f\"{rule}: {len(txns)}\")"
   ]
  },
  {
   "cell_type": "code",
   "execution_count": 16,
   "id": "94c6acd4",
   "metadata": {},
   "outputs": [
    {
     "name": "stdout",
     "output_type": "stream",
     "text": [
      "Flagged Transactions by Rule:\n",
      "n_transactions_m_minutes: 0\n",
      "high_risk_cities: 0\n",
      "high_risk_region_and_time: 0\n",
      "new_account_with_large_transaction: 0\n",
      "large_transaction: 0\n",
      "high_frequency_same_source: 0\n",
      "unusual_dest_accounts: 0\n",
      "time_based_spike: 0\n"
     ]
    }
   ],
   "source": [
    "\n",
    "\n",
    "# Print the flagged transactions for each rule\n",
    "print(\"Flagged Transactions by Rule:\")\n",
    "for rule, txns in result['flagged_by_rule'].items():\n",
    "    print(f\"{rule}: {len(txns)}\")\n"
   ]
  },
  {
   "cell_type": "code",
   "execution_count": 33,
   "id": "372e2d3a",
   "metadata": {},
   "outputs": [],
   "source": [
    "import pandas as pd\n",
    "from datetime import datetime\n",
    "\n",
    "# Import the classes from Rules.py\n",
    "from Rules__ import FraudRulesEngine\n",
    "\n"
   ]
  },
  {
   "cell_type": "code",
   "execution_count": 35,
   "id": "792f94b3",
   "metadata": {},
   "outputs": [],
   "source": [
    "\n",
    "\n",
    "data = {\n",
    "    'Transaction_Id': '262874940',\n",
    "    'Date_Time': '2025-11-22 03:51:50',\n",
    "    'Account_Creation_Date': '2025-11-20 07:51:50',\n",
    "    'Phone_Number': '+92 316-5932748',\n",
    "    'CNIC': '40734-8820668-3',\n",
    "    'Name': 'Fariha Mirza',\n",
    "    'Type': 'PAYMENT',\n",
    "    'Amount': 1740100.97,\n",
    "    'ID_Source': 'C1715563227',\n",
    "    'Old_Balance': 9987000.00,\n",
    "    'New_Balance': 0.00,\n",
    "    'Device_Name': 'Xiaomi Mi 11',\n",
    "    'IMEI': '601635731712294',\n",
    "    'KYC_Status': 'On-Hold',\n",
    "    'Service_Charges': 34.80394,\n",
    "    'Channel': 'Mobile Payments',\n",
    "    'Remarks': 'Utility bill payment',\n",
    "    'ID_Dest': 'M1855643329',\n",
    "    'Dest_State': 'Balochistan',\n",
    "    'Dest_City': 'Dera Bugti',\n",
    "    'Source_City': 'Dera Bugti',\n",
    "    'Is_Fraud': '0',\n",
    "}\n",
    "\n",
    "\n",
    "# Create DataFrame from the test data\n",
    "df = pd.DataFrame([data])"
   ]
  },
  {
   "cell_type": "code",
   "execution_count": 36,
   "id": "24aff89f",
   "metadata": {},
   "outputs": [],
   "source": [
    "# Initialize the FraudRulesEngine with the test DataFrame\n",
    "engine = FraudRulesEngine(df)"
   ]
  },
  {
   "cell_type": "code",
   "execution_count": 37,
   "id": "7887d504",
   "metadata": {},
   "outputs": [],
   "source": [
    "# Specify the Transaction ID you want to test\n",
    "transaction_id = '262874940'\n",
    "\n",
    "\n",
    "result = engine.apply_all_rules(transaction_id=transaction_id)\n"
   ]
  },
  {
   "cell_type": "code",
   "execution_count": 38,
   "id": "44b33f13",
   "metadata": {},
   "outputs": [
    {
     "name": "stdout",
     "output_type": "stream",
     "text": [
      "\n",
      "Flag Status for Transaction 262874940:\n",
      "\n",
      "Rule1:n_transactions_m_minutes: FALSE\n",
      "Rule2:high_risk_cities: TRUE\n",
      "Rule3:high_risk_region_and_time: TRUE\n",
      "Rule4:ew_account_with_large_transaction: TRUE\n",
      "Rule5:arge_transaction: TRUE\n",
      "Rule6:igh_frequency_same_source: FALSE\n",
      "Rule7:unusual_dest_accounts: FALSE\n",
      "Rule8:time_based_spike: FALSE\n",
      "\n",
      "Combined Flagged Transactions:\n",
      "['262874940']\n"
     ]
    }
   ],
   "source": [
    "if result:\n",
    "    print(f\"\\nFlag Status for Transaction {transaction_id}:\\n\")\n",
    "\n",
    "    for rule_name, flagged_ids in result['flagged_by_rule'].items():\n",
    "        status = \"TRUE\" if transaction_id in flagged_ids else \"FALSE\"\n",
    "        print(f\"{rule_name}: {status}\")\n",
    "\n",
    "    print(\"\\nCombined Flagged Transactions:\")\n",
    "    print(result['combined_flagged_transactions'])\n",
    "\n",
    "else:\n",
    "    print(\"Transaction not found or error occurred.\")\n"
   ]
  },
  {
   "cell_type": "code",
   "execution_count": null,
   "id": "1f23108b",
   "metadata": {},
   "outputs": [],
   "source": [
    "\n",
    "# Convert 'Date_Time' to datetime\n",
    "#df['Date_Time'] = pd.to_datetime(df['Date_Time'])\n",
    "\n",
    "\n",
    "\n",
    "\n"
   ]
  },
  {
   "cell_type": "code",
   "execution_count": 60,
   "id": "cd73fa1e",
   "metadata": {},
   "outputs": [],
   "source": [
    "import pandas as pd\n",
    "from Rules import BusinessRules, StatisticalRules"
   ]
  },
  {
   "cell_type": "code",
   "execution_count": 61,
   "id": "89316435",
   "metadata": {},
   "outputs": [],
   "source": [
    "test_df = pd.read_csv('test_data.csv')"
   ]
  },
  {
   "cell_type": "code",
   "execution_count": 62,
   "id": "4e6502b8",
   "metadata": {},
   "outputs": [],
   "source": [
    "data = test_df.iloc[0]"
   ]
  },
  {
   "cell_type": "code",
   "execution_count": 63,
   "id": "3296d294",
   "metadata": {},
   "outputs": [],
   "source": [
    "# Convert to DataFrame\n",
    "df = pd.DataFrame([data])"
   ]
  },
  {
   "cell_type": "code",
   "execution_count": 64,
   "id": "371ee93d",
   "metadata": {},
   "outputs": [
    {
     "name": "stdout",
     "output_type": "stream",
     "text": [
      "   Transaction_Id            Date_Time     Phone_Number             CNIC  \\\n",
      "0      5471606328  2019-08-04 18:04:00  +92 310-4781920  54845-3037526-6   \n",
      "\n",
      "          Name      Type     Amount    ID_Source  Old_Balance  New_Balance  \\\n",
      "0  Rida Hashmi  CASH_OUT  157548.74  C1622644134         41.0          0.0   \n",
      "\n",
      "   ...             IMEI     KYC_Status Service_Charges          Channel  \\\n",
      "0  ...  606248863727928  Under Process       315.09748  Mobile Payments   \n",
      "\n",
      "                  Remarks      ID_Dest   Dest_State Dest_City  \\\n",
      "0  Online gaming purchase  C1410204448  Balochistan    Chaman   \n",
      "\n",
      "  Account_Creation_Date Is_Fraud  \n",
      "0   2017-12-31 22:04:23        0  \n",
      "\n",
      "[1 rows x 23 columns]\n"
     ]
    }
   ],
   "source": [
    "# Set Transaction ID\n",
    "transaction_id = '262874940'\n",
    "\n",
    "print(df)\n",
    "\n",
    "# Business Rules check\n",
    "business = BusinessRules(df)\n",
    "business_results = business.apply_rules(transaction_id)"
   ]
  },
  {
   "cell_type": "code",
   "execution_count": 65,
   "id": "75426c32",
   "metadata": {},
   "outputs": [
    {
     "data": {
      "text/plain": [
       "{'BusinessRule1_rule1_n_transactions_m_minutes': False,\n",
       " 'BusinessRule2_rule2_high_risk_cities': False,\n",
       " 'BusinessRule3_rule3_high_risk_region_and_time': False,\n",
       " 'BusinessRule4_rule4_new_account_with_large_transaction': False}"
      ]
     },
     "execution_count": 65,
     "metadata": {},
     "output_type": "execute_result"
    }
   ],
   "source": [
    "business_results"
   ]
  },
  {
   "cell_type": "code",
   "execution_count": 67,
   "id": "1cbf3a2e",
   "metadata": {},
   "outputs": [
    {
     "name": "stdout",
     "output_type": "stream",
     "text": [
      "Business Rules Results:\n",
      "BusinessRule1_rule1_n_transactions_m_minutes: Not Flagged\n",
      "BusinessRule2_rule2_high_risk_cities: Not Flagged\n",
      "BusinessRule3_rule3_high_risk_region_and_time: Not Flagged\n",
      "BusinessRule4_rule4_new_account_with_large_transaction: Not Flagged\n"
     ]
    }
   ],
   "source": [
    "print(\"Business Rules Results:\")\n",
    "for rule, result in business_results.items():\n",
    "    print(f\"{rule}: {'Flagged' if result else 'Not Flagged'}\")"
   ]
  },
  {
   "cell_type": "code",
   "execution_count": 68,
   "id": "7cbb2afc",
   "metadata": {},
   "outputs": [],
   "source": [
    "# Statistical Rules check\n",
    "statistical = StatisticalRules(df)\n",
    "statistical_results = statistical.apply_rules(transaction_id)"
   ]
  },
  {
   "cell_type": "code",
   "execution_count": 69,
   "id": "45205faf",
   "metadata": {},
   "outputs": [
    {
     "data": {
      "text/plain": [
       "{'StatisticalRule5_rule5_large_transaction': False,\n",
       " 'StatisticalRule6_ule6_high_frequency_same_source': False,\n",
       " 'StatisticalRule7_rule7_unusual_dest_accounts': False,\n",
       " 'StatisticalRule8_rule8_time_based_spike': False}"
      ]
     },
     "execution_count": 69,
     "metadata": {},
     "output_type": "execute_result"
    }
   ],
   "source": [
    "statistical_results"
   ]
  },
  {
   "cell_type": "code",
   "execution_count": 70,
   "id": "cd65ebc6",
   "metadata": {},
   "outputs": [
    {
     "name": "stdout",
     "output_type": "stream",
     "text": [
      "\n",
      "Statistical Rules Results:\n",
      "StatisticalRule5_rule5_large_transaction: Not Flagged\n",
      "StatisticalRule6_ule6_high_frequency_same_source: Not Flagged\n",
      "StatisticalRule7_rule7_unusual_dest_accounts: Not Flagged\n",
      "StatisticalRule8_rule8_time_based_spike: Not Flagged\n"
     ]
    }
   ],
   "source": [
    "print(\"\\nStatistical Rules Results:\")\n",
    "for rule, result in statistical_results.items():\n",
    "    print(f\"{rule}: {'Flagged' if result else 'Not Flagged'}\")"
   ]
  },
  {
   "cell_type": "code",
   "execution_count": null,
   "id": "bfa779bc",
   "metadata": {},
   "outputs": [],
   "source": []
  },
  {
   "cell_type": "code",
   "execution_count": null,
   "id": "cdf8944d",
   "metadata": {},
   "outputs": [],
   "source": []
  }
 ],
 "metadata": {
  "kernelspec": {
   "display_name": "virtualenv",
   "language": "python",
   "name": "python3"
  },
  "language_info": {
   "codemirror_mode": {
    "name": "ipython",
    "version": 3
   },
   "file_extension": ".py",
   "mimetype": "text/x-python",
   "name": "python",
   "nbconvert_exporter": "python",
   "pygments_lexer": "ipython3",
   "version": "3.11.5"
  }
 },
 "nbformat": 4,
 "nbformat_minor": 5
}
