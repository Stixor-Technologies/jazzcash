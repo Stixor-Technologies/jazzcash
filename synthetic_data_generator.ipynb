{
 "cells": [
  {
   "cell_type": "code",
   "execution_count": 3,
   "id": "a3376125",
   "metadata": {},
   "outputs": [],
   "source": [
    "from python_files.data_generator import Data"
   ]
  },
  {
   "cell_type": "code",
   "execution_count": 4,
   "id": "38c0ba58",
   "metadata": {},
   "outputs": [],
   "source": [
    "import pandas as pd"
   ]
  },
  {
   "cell_type": "code",
   "execution_count": 7,
   "id": "96770415",
   "metadata": {},
   "outputs": [],
   "source": [
    "synthetic_data = Data('data/financial1.csv',data_name='original')"
   ]
  },
  {
   "cell_type": "code",
   "execution_count": 8,
   "id": "7c9db62b",
   "metadata": {},
   "outputs": [],
   "source": [
    "synthetic_data.generate_columns()\n"
   ]
  },
  {
   "cell_type": "code",
   "execution_count": 9,
   "id": "bf4cde0a",
   "metadata": {},
   "outputs": [
    {
     "name": "stdout",
     "output_type": "stream",
     "text": [
      "        Transaction_Id            Date_Time  ...        Dest_City Is_Fraud\n",
      "0           9036477192  2020-01-26 11:03:32  ...           Skardu        0\n",
      "1           2110709357  2020-01-26 11:03:41  ...          Karachi        0\n",
      "2           7108021918  2020-01-26 11:03:47  ...           Sukkur        1\n",
      "3           2160313551  2020-01-26 11:03:53  ...           Skardu        1\n",
      "4           3065409743  2020-01-26 11:04:00  ...           Gilgit        0\n",
      "...                ...                  ...  ...              ...      ...\n",
      "6362615     6947929887  2021-11-09 05:03:01  ...             Dadu        1\n",
      "6362616     6903834598  2021-11-09 05:03:06  ...           Lahore        1\n",
      "6362617     7768592997  2021-11-09 05:03:15  ...           Turbat        1\n",
      "6362618     3445701847  2021-11-09 05:03:19  ...        Rawalakot        1\n",
      "6362619     8115572053  2021-11-09 05:03:29  ...  Dera Ghazi Khan        1\n",
      "\n",
      "[6362620 rows x 22 columns]\n"
     ]
    }
   ],
   "source": [
    "synthetic_data.show()"
   ]
  },
  {
   "cell_type": "code",
   "execution_count": 10,
   "id": "b93437b8",
   "metadata": {},
   "outputs": [],
   "source": [
    "synthetic_data.save_data('Synthetic_Financial_Data.csv')"
   ]
  },
  {
   "cell_type": "code",
   "execution_count": null,
   "id": "8c46d184",
   "metadata": {},
   "outputs": [],
   "source": []
  }
 ],
 "metadata": {
  "kernelspec": {
   "display_name": "virtualenv",
   "language": "python",
   "name": "python3"
  },
  "language_info": {
   "codemirror_mode": {
    "name": "ipython",
    "version": 3
   },
   "file_extension": ".py",
   "mimetype": "text/x-python",
   "name": "python",
   "nbconvert_exporter": "python",
   "pygments_lexer": "ipython3",
   "version": "3.11.5"
  }
 },
 "nbformat": 4,
 "nbformat_minor": 5
}
